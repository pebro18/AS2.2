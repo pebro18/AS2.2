{
 "cells": [
  {
   "cell_type": "code",
   "execution_count": 31,
   "metadata": {},
   "outputs": [],
   "source": [
    "import Actions\n",
    "import Agent\n",
    "import Maze\n",
    "import Policy\n",
    "from Evaluation import Evaluation\n",
    "\n",
    "import copy\n",
    "import matplotlib.pyplot as plt\n"
   ]
  },
  {
   "attachments": {},
   "cell_type": "markdown",
   "metadata": {},
   "source": [
    "# Maze setup"
   ]
  },
  {
   "cell_type": "code",
   "execution_count": 32,
   "metadata": {},
   "outputs": [],
   "source": [
    "maze = Maze.Maze()\n",
    "maze.set_reward((0, 3), 40)\n",
    "maze.set_reward((1, 2), -10)\n",
    "maze.set_reward((1, 3), -10)\n",
    "maze.set_reward((3, 0), 10)\n",
    "maze.set_reward((3, 1), -2)\n",
    "\n",
    "maze.assign_maze_states()\n",
    "maze.set_terminal((0, 3), True)\n",
    "maze.set_terminal((3, 0), True)"
   ]
  },
  {
   "cell_type": "code",
   "execution_count": 33,
   "metadata": {},
   "outputs": [],
   "source": [
    "# Setup policy and agent\n",
    "policy = Policy.Policy(lenght=4, width=4)\n",
    "agent = Agent.Agent(maze, policy, maze.maze_states[3][2],1)\n",
    "# activate the value iteration algorithm\n",
    "agent.value_function()"
   ]
  },
  {
   "attachments": {},
   "cell_type": "markdown",
   "metadata": {},
   "source": [
    "# Evaluatie setup"
   ]
  },
  {
   "cell_type": "code",
   "execution_count": 34,
   "metadata": {},
   "outputs": [],
   "source": [
    "evaluation_gamma_1 = Evaluation(learning_rate= 0.1, discount_factor= 1, epsilon= 0.1)\n",
    "evaluation_gamma_0_9 = Evaluation(learning_rate= 0.1, discount_factor= 0.9, epsilon= 0.1)\n",
    "evaluation_gamma_0_5 = Evaluation(learning_rate= 0.1, discount_factor= 0.5, epsilon= 0.1)"
   ]
  },
  {
   "cell_type": "code",
   "execution_count": 35,
   "metadata": {},
   "outputs": [
    {
     "name": "stdout",
     "output_type": "stream",
     "text": [
      "TD learning:\n",
      "Gamma = 1\n",
      "38.00 39.00 40.00 0.00 \n",
      "37.00 38.00 39.00 40.00 \n",
      "36.00 37.00 36.00 35.00 \n",
      "0.00 36.00 35.00 34.00 \n",
      "\n",
      "Gamma = 0.5\n",
      "8.50 19.00 40.00 0.00 \n",
      "3.25 8.50 19.00 40.00 \n",
      "0.62 3.25 0.62 -0.69 \n",
      "0.00 0.62 -0.69 -1.34 \n",
      "\n"
     ]
    }
   ],
   "source": [
    "print(\"TD learning:\")\n",
    "agent_policy1 = copy.deepcopy(agent.policy)\n",
    "agent_policy2 = copy.deepcopy(agent.policy)\n",
    "\n",
    "print(\"Gamma = 1\")\n",
    "maze_values_1 = copy.deepcopy(evaluation_gamma_1.temporal_difference_learning(agent_policy1, maze))\n",
    "\n",
    "print(\"Gamma = 0.5\")\n",
    "maze_values_2 = copy.deepcopy(evaluation_gamma_0_5.temporal_difference_learning(agent_policy2, maze))"
   ]
  },
  {
   "cell_type": "code",
   "execution_count": 36,
   "metadata": {},
   "outputs": [
    {
     "name": "stdout",
     "output_type": "stream",
     "text": [
      "Gamma = 1\n",
      "(0, 0) LEFT 36.25 RIGHT 37.25 UP 36.51 DOWN 35.15 \n",
      "(0, 1) LEFT 36.44 RIGHT 38.19 UP 37.35 DOWN 36.17 \n",
      "(0, 2) LEFT 37.29 RIGHT 40.00 UP 38.62 DOWN 28.46 \n",
      "(0, 3) LEFT 0.00 RIGHT 0.00 UP 0.00 DOWN 0.00 \n",
      "\n",
      "(1, 0) LEFT 35.27 RIGHT 35.98 UP 36.35 DOWN 33.95 \n",
      "(1, 1) LEFT 35.06 RIGHT 28.35 UP 37.16 DOWN 34.88 \n",
      "(1, 2) LEFT 36.36 RIGHT 27.76 UP 38.69 DOWN 33.87 \n",
      "(1, 3) LEFT 27.68 RIGHT 29.31 UP 40.00 DOWN 32.39 \n",
      "\n",
      "(2, 0) LEFT 33.80 RIGHT 34.63 UP 34.95 DOWN 10.00 \n",
      "(2, 1) LEFT 34.34 RIGHT 33.46 UP 35.92 DOWN 32.69 \n",
      "(2, 2) LEFT 35.04 RIGHT 32.65 UP 28.11 DOWN 32.51 \n",
      "(2, 3) LEFT 33.70 RIGHT 32.49 UP 29.47 DOWN 31.41 \n",
      "\n",
      "(3, 0) LEFT 0.00 RIGHT 0.00 UP 0.00 DOWN 0.00 \n",
      "(3, 1) LEFT 10.00 RIGHT 32.32 UP 34.80 DOWN 31.23 \n",
      "(3, 2) LEFT 32.43 RIGHT 31.41 UP 33.18 DOWN 32.60 \n",
      "(3, 3) LEFT 32.60 RIGHT 31.41 UP 32.01 DOWN 31.34 \n",
      "\n",
      "Gamma = 0.9\n",
      "(0, 0) LEFT 24.82 RIGHT 29.52 UP 24.85 DOWN 20.47 \n",
      "(0, 1) LEFT 24.46 RIGHT 34.65 UP 29.29 DOWN 25.11 \n",
      "(0, 2) LEFT 28.62 RIGHT 40.00 UP 34.93 DOWN 19.89 \n",
      "(0, 3) LEFT 0.00 RIGHT 0.00 UP 0.00 DOWN 0.00 \n",
      "\n",
      "(1, 0) LEFT 21.36 RIGHT 24.49 UP 23.34 DOWN 17.74 \n",
      "(1, 1) LEFT 20.87 RIGHT 20.08 UP 29.32 DOWN 20.63 \n",
      "(1, 2) LEFT 24.06 RIGHT 25.35 UP 33.60 DOWN 17.41 \n",
      "(1, 3) LEFT 20.36 RIGHT 22.75 UP 40.00 DOWN 20.29 \n",
      "\n",
      "(2, 0) LEFT 18.08 RIGHT 20.74 UP 21.35 DOWN 10.00 \n",
      "(2, 1) LEFT 17.85 RIGHT 17.68 UP 24.58 DOWN 16.44 \n",
      "(2, 2) LEFT 19.97 RIGHT 20.68 UP 19.97 DOWN 14.67 \n",
      "(2, 3) LEFT 17.78 RIGHT 21.38 UP 25.24 DOWN 17.06 \n",
      "\n",
      "(3, 0) LEFT 0.00 RIGHT 0.00 UP 0.00 DOWN 0.00 \n",
      "(3, 1) LEFT 10.00 RIGHT 14.85 UP 21.56 DOWN 16.16 \n",
      "(3, 2) LEFT 15.92 RIGHT 16.05 UP 17.88 DOWN 14.87 \n",
      "(3, 3) LEFT 14.84 RIGHT 17.57 UP 20.35 DOWN 17.19 \n",
      "\n"
     ]
    }
   ],
   "source": [
    "print(\"Gamma = 1\")\n",
    "SARSA_Q_map_1 = evaluation_gamma_1.SARSA(maze)\n",
    "print(\"Gamma = 0.9\")\n",
    "SARSA_Q_map_0_9 = evaluation_gamma_0_9.SARSA(maze)"
   ]
  },
  {
   "cell_type": "code",
   "execution_count": 37,
   "metadata": {},
   "outputs": [
    {
     "name": "stdout",
     "output_type": "stream",
     "text": [
      "Gamma = 1\n",
      "(0, 0) LEFT 37.00 RIGHT 38.00 UP 37.00 DOWN 36.00 \n",
      "(0, 1) LEFT 37.00 RIGHT 39.00 UP 38.00 DOWN 37.00 \n",
      "(0, 2) LEFT 38.00 RIGHT 40.00 UP 39.00 DOWN 29.00 \n",
      "(0, 3) LEFT 0.00 RIGHT 0.00 UP 0.00 DOWN 0.00 \n",
      "\n",
      "(1, 0) LEFT 36.00 RIGHT 37.00 UP 37.00 DOWN 35.00 \n",
      "(1, 1) LEFT 36.00 RIGHT 29.00 UP 38.00 DOWN 36.00 \n",
      "(1, 2) LEFT 37.00 RIGHT 30.00 UP 39.00 DOWN 35.00 \n",
      "(1, 3) LEFT 29.00 RIGHT 30.00 UP 40.00 DOWN 34.00 \n",
      "\n",
      "(2, 0) LEFT 35.00 RIGHT 36.00 UP 36.00 DOWN 10.00 \n",
      "(2, 1) LEFT 35.00 RIGHT 35.00 UP 37.00 DOWN 34.00 \n",
      "(2, 2) LEFT 36.00 RIGHT 34.00 UP 29.00 DOWN 34.00 \n",
      "(2, 3) LEFT 35.00 RIGHT 34.00 UP 30.00 DOWN 33.00 \n",
      "\n",
      "(3, 0) LEFT 0.00 RIGHT 0.00 UP 0.00 DOWN 0.00 \n",
      "(3, 1) LEFT 10.00 RIGHT 34.00 UP 36.00 DOWN 34.00 \n",
      "(3, 2) LEFT 34.00 RIGHT 33.00 UP 35.00 DOWN 34.00 \n",
      "(3, 3) LEFT 34.00 RIGHT 33.00 UP 34.00 DOWN 33.00 \n",
      "\n",
      "Gamma = 0.9\n",
      "(0, 0) LEFT 26.45 RIGHT 30.50 UP 26.45 DOWN 22.80 \n",
      "(0, 1) LEFT 26.45 RIGHT 35.00 UP 30.50 DOWN 26.45 \n",
      "(0, 2) LEFT 30.50 RIGHT 40.00 UP 35.00 DOWN 21.50 \n",
      "(0, 3) LEFT 0.00 RIGHT 0.00 UP 0.00 DOWN 0.00 \n",
      "\n",
      "(1, 0) LEFT 22.80 RIGHT 26.45 UP 26.45 DOWN 19.52 \n",
      "(1, 1) LEFT 22.80 RIGHT 21.50 UP 30.50 DOWN 22.80 \n",
      "(1, 2) LEFT 26.45 RIGHT 26.00 UP 35.00 DOWN 19.52 \n",
      "(1, 3) LEFT 21.50 RIGHT 26.00 UP 40.00 DOWN 22.40 \n",
      "\n",
      "(2, 0) LEFT 19.52 RIGHT 22.80 UP 22.80 DOWN 10.00 \n",
      "(2, 1) LEFT 19.52 RIGHT 19.52 UP 26.45 DOWN 18.52 \n",
      "(2, 2) LEFT 22.80 RIGHT 22.40 UP 21.50 DOWN 16.57 \n",
      "(2, 3) LEFT 19.52 RIGHT 22.40 UP 26.00 DOWN 19.16 \n",
      "\n",
      "(3, 0) LEFT 0.00 RIGHT 0.00 UP 0.00 DOWN 0.00 \n",
      "(3, 1) LEFT 10.00 RIGHT 16.57 UP 22.80 DOWN 18.52 \n",
      "(3, 2) LEFT 18.52 RIGHT 19.16 UP 19.52 DOWN 16.57 \n",
      "(3, 3) LEFT 16.57 RIGHT 19.16 UP 22.40 DOWN 19.16 \n",
      "\n"
     ]
    }
   ],
   "source": [
    "print(\"Gamma = 1\")\n",
    "Q_learning_Q_map_1 = evaluation_gamma_1.Q_learning(maze)\n",
    "print(\"Gamma = 0.9\")\n",
    "Q_learning_Q_map_0_9 = evaluation_gamma_0_9.Q_learning(maze)"
   ]
  },
  {
   "attachments": {},
   "cell_type": "markdown",
   "metadata": {},
   "source": [
    "# Visualisation"
   ]
  },
  {
   "cell_type": "code",
   "execution_count": 38,
   "metadata": {},
   "outputs": [],
   "source": [
    "def print_sidebyside_Q_map(Q_map1,Q_map2):\n",
    "\n",
    "    for index, row in enumerate(Q_map1):\n",
    "        for index2, col in enumerate(row):\n",
    "            print(col[0][0].position, end=\" \")\n",
    "            print(\"Gamma = 1\", end=\" \")\n",
    "            for index3, action in enumerate(col):\n",
    "                print(action[1].name, end=\" \")\n",
    "                print(\"%#06.3f\" % action[2], end=\" \")\n",
    "                print(\" | \", end=\" \")\n",
    "            print(\"            Gamma = 0.9\", end=\" \")\n",
    "            print(\" | \", end=\" \")\n",
    "            for index3, action in enumerate(Q_map2[index][index2]):\n",
    "                print(action[1].name, end=\" \")\n",
    "                print(\"%#06.3f\" % action[2], end=\" \")\n",
    "                print(\" | \", end=\" \")\n",
    "            print()\n",
    "        print()\n"
   ]
  },
  {
   "cell_type": "code",
   "execution_count": 39,
   "metadata": {},
   "outputs": [],
   "source": [
    "def get_best_action_from_Q_map_state(state):\n",
    "    best_action = None\n",
    "    best_v = -100000\n",
    "    for action in state:\n",
    "        if action[2] > best_v:\n",
    "            best_v = action[2]\n",
    "            best_action = action[1]\n",
    "    return best_action"
   ]
  },
  {
   "cell_type": "code",
   "execution_count": 40,
   "metadata": {},
   "outputs": [],
   "source": [
    "def print_policy_based_of_Q_map(Q_map):\n",
    "    for index, row in enumerate(Q_map):\n",
    "        for index2, col in enumerate(row):\n",
    "            #print(col[0][0].position, end=\" \")\n",
    "            if col[0][0].terminal:\n",
    "                print(\"NONE\", end=\" \")\n",
    "            else:\n",
    "                action = get_best_action_from_Q_map_state(col)\n",
    "                print(action.name, end=\" \")\n",
    "        print()"
   ]
  },
  {
   "attachments": {},
   "cell_type": "markdown",
   "metadata": {},
   "source": [
    "## TD Learning"
   ]
  },
  {
   "cell_type": "code",
   "execution_count": 41,
   "metadata": {},
   "outputs": [
    {
     "data": {
      "text/plain": [
       "<matplotlib.image.AxesImage at 0x1fe3906eac0>"
      ]
     },
     "execution_count": 41,
     "metadata": {},
     "output_type": "execute_result"
    },
    {
     "data": {
      "image/png": "[encoded data removed]",
      "text/plain": [
       "<Figure size 1000x1000 with 2 Axes>"
      ]
     },
     "metadata": {},
     "output_type": "display_data"
    }
   ],
   "source": [
    "fig, (ax1,ax2) = plt.subplots(1, 2, figsize=(10, 10))\n",
    "\n",
    "data_array_1 = []\n",
    "data_array_2 = []\n",
    "for i in range(4):\n",
    "    col1 = []\n",
    "    col2 = []\n",
    "\n",
    "    for j in range(4):\n",
    "        col1.append(round(maze_values_1[i][j].value,3))\n",
    "        col2.append(round(maze_values_2[i][j].value,3))\n",
    "        ax1.text(j, i, round(maze_values_1[i][j].value,3), ha=\"center\", va=\"center\", color=\"w\")\n",
    "        ax2.text(j, i, round(maze_values_2[i][j].value,3), ha=\"center\", va=\"center\", color=\"w\")\n",
    "\n",
    "    data_array_1.append(col1)\n",
    "    data_array_2.append(col2)\n",
    "ax1.title.set_text('Gamma = 1')\n",
    "ax2.title.set_text('Gamma = 0,5')\n",
    "ax1.imshow(data_array_1, cmap='copper', interpolation='nearest')\n",
    "ax2.imshow(data_array_2, cmap='copper', interpolation='nearest')"
   ]
  },
  {
   "attachments": {},
   "cell_type": "markdown",
   "metadata": {},
   "source": [
    "in de visualisatie is te zien dat in vergelijking met gamma = 1 dat de values van iedere state meer uniformer zijn dan de values van gamma = 0.5. Dit komt doordat de doormiddel van de gamma het algorithme minder ver de toekomst in kijkt en dus minder rekening houdt met de beloning die verder in de toekomst ligt."
   ]
  },
  {
   "attachments": {},
   "cell_type": "markdown",
   "metadata": {},
   "source": [
    "## SARSA"
   ]
  },
  {
   "cell_type": "code",
   "execution_count": 42,
   "metadata": {},
   "outputs": [
    {
     "name": "stdout",
     "output_type": "stream",
     "text": [
      "SARSA:\n",
      "(0, 0) Gamma = 1 LEFT 36.252  |  RIGHT 37.248  |  UP 36.512  |  DOWN 35.153  |              Gamma = 0.9  |  LEFT 24.817  |  RIGHT 29.518  |  UP 24.851  |  DOWN 20.475  |  \n",
      "(0, 1) Gamma = 1 LEFT 36.444  |  RIGHT 38.189  |  UP 37.349  |  DOWN 36.175  |              Gamma = 0.9  |  LEFT 24.461  |  RIGHT 34.651  |  UP 29.289  |  DOWN 25.105  |  \n",
      "(0, 2) Gamma = 1 LEFT 37.294  |  RIGHT 40.000  |  UP 38.623  |  DOWN 28.456  |              Gamma = 0.9  |  LEFT 28.622  |  RIGHT 40.000  |  UP 34.933  |  DOWN 19.887  |  \n",
      "(0, 3) Gamma = 1 LEFT 00.000  |  RIGHT 00.000  |  UP 00.000  |  DOWN 00.000  |              Gamma = 0.9  |  LEFT 00.000  |  RIGHT 00.000  |  UP 00.000  |  DOWN 00.000  |  \n",
      "\n",
      "(1, 0) Gamma = 1 LEFT 35.275  |  RIGHT 35.976  |  UP 36.353  |  DOWN 33.954  |              Gamma = 0.9  |  LEFT 21.364  |  RIGHT 24.491  |  UP 23.342  |  DOWN 17.741  |  \n",
      "(1, 1) Gamma = 1 LEFT 35.064  |  RIGHT 28.348  |  UP 37.157  |  DOWN 34.877  |              Gamma = 0.9  |  LEFT 20.871  |  RIGHT 20.079  |  UP 29.325  |  DOWN 20.631  |  \n",
      "(1, 2) Gamma = 1 LEFT 36.359  |  RIGHT 27.762  |  UP 38.694  |  DOWN 33.865  |              Gamma = 0.9  |  LEFT 24.062  |  RIGHT 25.348  |  UP 33.604  |  DOWN 17.408  |  \n",
      "(1, 3) Gamma = 1 LEFT 27.681  |  RIGHT 29.310  |  UP 40.000  |  DOWN 32.388  |              Gamma = 0.9  |  LEFT 20.356  |  RIGHT 22.753  |  UP 40.000  |  DOWN 20.287  |  \n",
      "\n",
      "(2, 0) Gamma = 1 LEFT 33.796  |  RIGHT 34.635  |  UP 34.951  |  DOWN 10.000  |              Gamma = 0.9  |  LEFT 18.076  |  RIGHT 20.739  |  UP 21.354  |  DOWN 10.000  |  \n",
      "(2, 1) Gamma = 1 LEFT 34.343  |  RIGHT 33.458  |  UP 35.916  |  DOWN 32.690  |              Gamma = 0.9  |  LEFT 17.853  |  RIGHT 17.685  |  UP 24.583  |  DOWN 16.438  |  \n",
      "(2, 2) Gamma = 1 LEFT 35.037  |  RIGHT 32.648  |  UP 28.113  |  DOWN 32.515  |              Gamma = 0.9  |  LEFT 19.974  |  RIGHT 20.680  |  UP 19.967  |  DOWN 14.667  |  \n",
      "(2, 3) Gamma = 1 LEFT 33.699  |  RIGHT 32.489  |  UP 29.473  |  DOWN 31.407  |              Gamma = 0.9  |  LEFT 17.777  |  RIGHT 21.384  |  UP 25.244  |  DOWN 17.057  |  \n",
      "\n",
      "(3, 0) Gamma = 1 LEFT 00.000  |  RIGHT 00.000  |  UP 00.000  |  DOWN 00.000  |              Gamma = 0.9  |  LEFT 00.000  |  RIGHT 00.000  |  UP 00.000  |  DOWN 00.000  |  \n",
      "(3, 1) Gamma = 1 LEFT 10.000  |  RIGHT 32.320  |  UP 34.805  |  DOWN 31.227  |              Gamma = 0.9  |  LEFT 10.000  |  RIGHT 14.854  |  UP 21.556  |  DOWN 16.157  |  \n",
      "(3, 2) Gamma = 1 LEFT 32.430  |  RIGHT 31.409  |  UP 33.181  |  DOWN 32.595  |              Gamma = 0.9  |  LEFT 15.922  |  RIGHT 16.049  |  UP 17.883  |  DOWN 14.870  |  \n",
      "(3, 3) Gamma = 1 LEFT 32.601  |  RIGHT 31.409  |  UP 32.011  |  DOWN 31.342  |              Gamma = 0.9  |  LEFT 14.845  |  RIGHT 17.574  |  UP 20.353  |  DOWN 17.191  |  \n",
      "\n"
     ]
    }
   ],
   "source": [
    "print(\"SARSA:\")\n",
    "print_sidebyside_Q_map(SARSA_Q_map_1,SARSA_Q_map_0_9)"
   ]
  },
  {
   "cell_type": "code",
   "execution_count": 43,
   "metadata": {},
   "outputs": [
    {
     "name": "stdout",
     "output_type": "stream",
     "text": [
      "Gamma = 1\n",
      "RIGHT RIGHT RIGHT NONE \n",
      "UP UP UP UP \n",
      "UP UP LEFT LEFT \n",
      "NONE UP UP LEFT \n",
      "\n",
      "Gamma = 0.9\n",
      "RIGHT RIGHT RIGHT NONE \n",
      "RIGHT UP UP UP \n",
      "UP UP RIGHT UP \n",
      "NONE UP UP UP \n"
     ]
    }
   ],
   "source": [
    "print(\"Gamma = 1\")\n",
    "print_policy_based_of_Q_map(SARSA_Q_map_1)\n",
    "print()\n",
    "print(\"Gamma = 0.9\")\n",
    "print_policy_based_of_Q_map(SARSA_Q_map_0_9)"
   ]
  },
  {
   "attachments": {},
   "cell_type": "markdown",
   "metadata": {},
   "source": [
    "Op basis van de 2 geprinte policies is te zien dat de policy van gamma 0.9 lichte verschillen in zijn gekozen optimale acties heeft tegenover een gamma van 1. ook is te zien in de Q_map dat de values van gamma = 0.9 veel lager zijn dan die van gamma = 1. Dit komt doordat de reward uit (0.3) langzamer hand minder invloed heeft op de values van de states die verder weg liggen van die reward."
   ]
  },
  {
   "attachments": {},
   "cell_type": "markdown",
   "metadata": {},
   "source": [
    "## Q Learning"
   ]
  },
  {
   "cell_type": "code",
   "execution_count": 44,
   "metadata": {},
   "outputs": [
    {
     "name": "stdout",
     "output_type": "stream",
     "text": [
      "Q-learning:\n",
      "(0, 0) Gamma = 1 LEFT 37.000  |  RIGHT 38.000  |  UP 37.000  |  DOWN 36.000  |              Gamma = 0.9  |  LEFT 26.450  |  RIGHT 30.500  |  UP 26.450  |  DOWN 22.805  |  \n",
      "(0, 1) Gamma = 1 LEFT 37.000  |  RIGHT 39.000  |  UP 38.000  |  DOWN 37.000  |              Gamma = 0.9  |  LEFT 26.450  |  RIGHT 35.000  |  UP 30.500  |  DOWN 26.450  |  \n",
      "(0, 2) Gamma = 1 LEFT 38.000  |  RIGHT 40.000  |  UP 39.000  |  DOWN 29.000  |              Gamma = 0.9  |  LEFT 30.500  |  RIGHT 40.000  |  UP 35.000  |  DOWN 21.500  |  \n",
      "(0, 3) Gamma = 1 LEFT 00.000  |  RIGHT 00.000  |  UP 00.000  |  DOWN 00.000  |              Gamma = 0.9  |  LEFT 00.000  |  RIGHT 00.000  |  UP 00.000  |  DOWN 00.000  |  \n",
      "\n",
      "(1, 0) Gamma = 1 LEFT 36.000  |  RIGHT 37.000  |  UP 37.000  |  DOWN 35.000  |              Gamma = 0.9  |  LEFT 22.805  |  RIGHT 26.450  |  UP 26.450  |  DOWN 19.524  |  \n",
      "(1, 1) Gamma = 1 LEFT 36.000  |  RIGHT 29.000  |  UP 38.000  |  DOWN 36.000  |              Gamma = 0.9  |  LEFT 22.805  |  RIGHT 21.500  |  UP 30.500  |  DOWN 22.805  |  \n",
      "(1, 2) Gamma = 1 LEFT 37.000  |  RIGHT 30.000  |  UP 39.000  |  DOWN 35.000  |              Gamma = 0.9  |  LEFT 26.450  |  RIGHT 26.000  |  UP 35.000  |  DOWN 19.524  |  \n",
      "(1, 3) Gamma = 1 LEFT 29.000  |  RIGHT 30.000  |  UP 40.000  |  DOWN 34.000  |              Gamma = 0.9  |  LEFT 21.500  |  RIGHT 26.000  |  UP 40.000  |  DOWN 22.400  |  \n",
      "\n",
      "(2, 0) Gamma = 1 LEFT 35.000  |  RIGHT 36.000  |  UP 36.000  |  DOWN 10.000  |              Gamma = 0.9  |  LEFT 19.524  |  RIGHT 22.805  |  UP 22.805  |  DOWN 10.000  |  \n",
      "(2, 1) Gamma = 1 LEFT 35.000  |  RIGHT 35.000  |  UP 37.000  |  DOWN 34.000  |              Gamma = 0.9  |  LEFT 19.524  |  RIGHT 19.524  |  UP 26.450  |  DOWN 18.524  |  \n",
      "(2, 2) Gamma = 1 LEFT 36.000  |  RIGHT 34.000  |  UP 29.000  |  DOWN 34.000  |              Gamma = 0.9  |  LEFT 22.805  |  RIGHT 22.400  |  UP 21.500  |  DOWN 16.572  |  \n",
      "(2, 3) Gamma = 1 LEFT 35.000  |  RIGHT 34.000  |  UP 30.000  |  DOWN 33.000  |              Gamma = 0.9  |  LEFT 19.524  |  RIGHT 22.400  |  UP 26.000  |  DOWN 19.160  |  \n",
      "\n",
      "(3, 0) Gamma = 1 LEFT 00.000  |  RIGHT 00.000  |  UP 00.000  |  DOWN 00.000  |              Gamma = 0.9  |  LEFT 00.000  |  RIGHT 00.000  |  UP 00.000  |  DOWN 00.000  |  \n",
      "(3, 1) Gamma = 1 LEFT 10.000  |  RIGHT 34.000  |  UP 36.000  |  DOWN 34.000  |              Gamma = 0.9  |  LEFT 10.000  |  RIGHT 16.572  |  UP 22.805  |  DOWN 18.524  |  \n",
      "(3, 2) Gamma = 1 LEFT 34.000  |  RIGHT 33.000  |  UP 35.000  |  DOWN 34.000  |              Gamma = 0.9  |  LEFT 18.524  |  RIGHT 19.160  |  UP 19.524  |  DOWN 16.572  |  \n",
      "(3, 3) Gamma = 1 LEFT 34.000  |  RIGHT 33.000  |  UP 34.000  |  DOWN 33.000  |              Gamma = 0.9  |  LEFT 16.572  |  RIGHT 19.160  |  UP 22.400  |  DOWN 19.160  |  \n",
      "\n"
     ]
    }
   ],
   "source": [
    "print(\"Q-learning:\")\n",
    "print_sidebyside_Q_map(Q_learning_Q_map_1,Q_learning_Q_map_0_9)"
   ]
  },
  {
   "cell_type": "code",
   "execution_count": 45,
   "metadata": {},
   "outputs": [
    {
     "name": "stdout",
     "output_type": "stream",
     "text": [
      "Gamma = 1\n",
      "RIGHT RIGHT RIGHT NONE \n",
      "RIGHT UP UP UP \n",
      "UP UP LEFT LEFT \n",
      "NONE UP UP UP \n",
      "\n",
      "Gamma = 0.9\n",
      "RIGHT RIGHT RIGHT NONE \n",
      "RIGHT UP UP UP \n",
      "UP UP LEFT UP \n",
      "NONE UP UP UP \n"
     ]
    }
   ],
   "source": [
    "print(\"Gamma = 1\")\n",
    "print_policy_based_of_Q_map(Q_learning_Q_map_1)\n",
    "print()\n",
    "print(\"Gamma = 0.9\")\n",
    "print_policy_based_of_Q_map(Q_learning_Q_map_0_9) "
   ]
  },
  {
   "attachments": {},
   "cell_type": "markdown",
   "metadata": {},
   "source": [
    "Q Learning in vergelijking met SARSA geeft op eerste indruk dezelfde policies uit. maar als we naar de waardes kijken vertelt dit een ander verhaal. De values van Q Learning zijn veel meer uniformer en lichtelijk hoger dan die van SARSA. dit komt doordat Q Learning niet kijkt naar de volgende actie maar naar de beste actie die mogelijk is vanuit de volgende state. Hierdoor is de kans dat de agent in een state komt waar hij een beloning krijgt groter en dus de values van de states hoger."
   ]
  },
  {
   "attachments": {},
   "cell_type": "markdown",
   "metadata": {},
   "source": []
  }
 ],
 "metadata": {
  "kernelspec": {
   "display_name": "Python 3",
   "language": "python",
   "name": "python3"
  },
  "language_info": {
   "codemirror_mode": {
    "name": "ipython",
    "version": 3
   },
   "file_extension": ".py",
   "mimetype": "text/x-python",
   "name": "python",
   "nbconvert_exporter": "python",
   "pygments_lexer": "ipython3",
   "version": "3.9.13"
  },
  "orig_nbformat": 4
 },
 "nbformat": 4,
 "nbformat_minor": 2
}
