{
 "cells": [
  {
   "cell_type": "code",
   "execution_count": 1,
   "metadata": {},
   "outputs": [],
   "source": [
    "import Actions\n",
    "import Agent\n",
    "import Maze\n",
    "import Policy\n",
    "from Evaluation import Evaluation\n",
    "\n",
    "import copy\n",
    "import matplotlib.pyplot as plt\n"
   ]
  },
  {
   "attachments": {},
   "cell_type": "markdown",
   "metadata": {},
   "source": [
    "# Maze setup"
   ]
  },
  {
   "cell_type": "code",
   "execution_count": 2,
   "metadata": {},
   "outputs": [],
   "source": [
    "maze = Maze.Maze()\n",
    "maze.set_reward((0, 3), 40)\n",
    "maze.set_reward((1, 2), -10)\n",
    "maze.set_reward((1, 3), -10)\n",
    "maze.set_reward((3, 0), 10)\n",
    "maze.set_reward((3, 1), -2)\n",
    "\n",
    "maze.assign_maze_states()\n",
    "maze.set_terminal((0, 3), True)\n",
    "maze.set_terminal((3, 0), True)"
   ]
  },
  {
   "cell_type": "code",
   "execution_count": 3,
   "metadata": {},
   "outputs": [],
   "source": [
    "# Setup policy and agent\n",
    "policy = Policy.Policy(lenght=4, width=4)\n",
    "agent = Agent.Agent(maze, policy, maze.maze_states[3][2],1)\n",
    "# activate the value iteration algorithm\n",
    "agent.value_function()"
   ]
  },
  {
   "attachments": {},
   "cell_type": "markdown",
   "metadata": {},
   "source": [
    "# Evaluatie setup"
   ]
  },
  {
   "cell_type": "code",
   "execution_count": 4,
   "metadata": {},
   "outputs": [],
   "source": [
    "evaluation_gamma_1 = Evaluation(learning_rate= 0.1, discount_factor= 1, epsilon= 0.1)\n",
    "evaluation_gamma_0_9 = Evaluation(learning_rate= 0.1, discount_factor= 0.9, epsilon= 0.1)\n",
    "evaluation_gamma_0_5 = Evaluation(learning_rate= 0.1, discount_factor= 0.5, epsilon= 0.1)"
   ]
  },
  {
   "cell_type": "code",
   "execution_count": 5,
   "metadata": {},
   "outputs": [
    {
     "name": "stdout",
     "output_type": "stream",
     "text": [
      "TD learning:\n",
      "Gamma = 1\n",
      "6.00 39.00 40.00 0.00 \n",
      "10.00 38.00 1.00 7.00 \n",
      "6.00 37.00 36.00 5.00 \n",
      "0.00 10.00 35.00 4.00 \n",
      "\n",
      "Gamma = 0.5\n",
      "7.00 19.00 40.00 0.00 \n",
      "10.00 8.50 10.00 7.00 \n",
      "8.00 3.25 0.62 4.00 \n",
      "0.00 3.00 -0.69 3.00 \n",
      "\n"
     ]
    }
   ],
   "source": [
    "print(\"TD learning:\")\n",
    "agent_policy1 = copy.deepcopy(agent.policy)\n",
    "agent_policy2 = copy.deepcopy(agent.policy)\n",
    "\n",
    "print(\"Gamma = 1\")\n",
    "maze_values_1 = copy.deepcopy(evaluation_gamma_1.temporal_difference_learning(agent_policy1, maze))\n",
    "\n",
    "print(\"Gamma = 0.5\")\n",
    "maze_values_2 = copy.deepcopy(evaluation_gamma_0_5.temporal_difference_learning(agent_policy2, maze))"
   ]
  },
  {
   "cell_type": "code",
   "execution_count": 6,
   "metadata": {},
   "outputs": [
    {
     "name": "stdout",
     "output_type": "stream",
     "text": [
      "Gamma = 1\n",
      "(0, 0) LEFT 35.97 RIGHT 37.52 UP 36.20 DOWN 35.06 \n",
      "(0, 1) LEFT 36.30 RIGHT 38.75 UP 37.20 DOWN 35.14 \n",
      "(0, 2) LEFT 37.28 RIGHT 40.00 UP 38.18 DOWN 28.10 \n",
      "(0, 3) LEFT 0.00 RIGHT 0.00 UP 0.00 DOWN 0.00 \n",
      "\n",
      "(1, 0) LEFT 35.20 RIGHT 35.91 UP 36.40 DOWN 33.81 \n",
      "(1, 1) LEFT 35.33 RIGHT 28.55 UP 37.48 DOWN 34.63 \n",
      "(1, 2) LEFT 35.97 RIGHT 28.81 UP 38.94 DOWN 33.85 \n",
      "(1, 3) LEFT 24.46 RIGHT 27.03 UP 40.00 DOWN 30.77 \n",
      "\n",
      "(2, 0) LEFT 31.27 RIGHT 34.79 UP 35.33 DOWN 10.00 \n",
      "(2, 1) LEFT 33.82 RIGHT 33.50 UP 36.22 DOWN 32.57 \n",
      "(2, 2) LEFT 35.19 RIGHT 31.72 UP 28.54 DOWN 32.30 \n",
      "(2, 3) LEFT 32.94 RIGHT 32.24 UP 29.33 DOWN 31.30 \n",
      "\n",
      "(3, 0) LEFT 0.00 RIGHT 0.00 UP 0.00 DOWN 0.00 \n",
      "(3, 1) LEFT 10.00 RIGHT 32.27 UP 34.68 DOWN 32.82 \n",
      "(3, 2) LEFT 32.68 RIGHT 31.34 UP 33.80 DOWN 32.25 \n",
      "(3, 3) LEFT 32.54 RIGHT 31.27 UP 31.86 DOWN 31.37 \n",
      "\n",
      "Gamma = 0.9\n",
      "(0, 0) LEFT 4.41 RIGHT 4.97 UP 2.00 DOWN 1.34 \n",
      "(0, 1) LEFT 4.45 RIGHT 5.02 UP 5.57 DOWN 10.00 \n",
      "(0, 2) LEFT 7.57 RIGHT 5.80 UP 4.93 DOWN 3.86 \n",
      "(0, 3) LEFT 0.00 RIGHT 0.00 UP 0.00 DOWN 0.00 \n",
      "\n",
      "(1, 0) LEFT 5.42 RIGHT 9.29 UP 5.46 DOWN 5.38 \n",
      "(1, 1) LEFT 6.39 RIGHT 5.91 UP 5.89 DOWN 12.98 \n",
      "(1, 2) LEFT 10.43 RIGHT 25.44 UP 5.92 DOWN 16.78 \n",
      "(1, 3) LEFT 12.27 RIGHT 25.99 UP 40.00 DOWN 19.51 \n",
      "\n",
      "(2, 0) LEFT 3.13 RIGHT 12.76 UP 5.21 DOWN 3.00 \n",
      "(2, 1) LEFT 8.65 RIGHT 16.83 UP 9.43 DOWN 10.04 \n",
      "(2, 2) LEFT 12.38 RIGHT 19.13 UP 11.53 DOWN 13.07 \n",
      "(2, 3) LEFT 16.74 RIGHT 20.15 UP 22.49 DOWN 16.74 \n",
      "\n",
      "(3, 0) LEFT 0.00 RIGHT 0.00 UP 0.00 DOWN 0.00 \n",
      "(3, 1) LEFT 10.00 RIGHT 13.46 UP 12.95 DOWN 10.67 \n",
      "(3, 2) LEFT 10.56 RIGHT 15.25 UP 16.67 DOWN 14.43 \n",
      "(3, 3) LEFT 13.11 RIGHT 17.28 UP 20.64 DOWN 17.41 \n",
      "\n"
     ]
    }
   ],
   "source": [
    "print(\"Gamma = 1\")\n",
    "SARSA_Q_map_1 = evaluation_gamma_1.SARSA(maze)\n",
    "print(\"Gamma = 0.9\")\n",
    "SARSA_Q_map_0_9 = evaluation_gamma_0_9.SARSA(maze)"
   ]
  },
  {
   "cell_type": "code",
   "execution_count": 7,
   "metadata": {},
   "outputs": [
    {
     "name": "stdout",
     "output_type": "stream",
     "text": [
      "Gamma = 1\n",
      "(0, 0) LEFT 37.00 RIGHT 38.00 UP 36.98 DOWN 35.98 \n",
      "(0, 1) LEFT 37.00 RIGHT 39.00 UP 38.00 DOWN 37.00 \n",
      "(0, 2) LEFT 38.00 RIGHT 40.00 UP 39.00 DOWN 29.00 \n",
      "(0, 3) LEFT 0.00 RIGHT 0.00 UP 0.00 DOWN 0.00 \n",
      "\n",
      "(1, 0) LEFT 35.92 RIGHT 37.00 UP 36.95 DOWN 34.94 \n",
      "(1, 1) LEFT 36.00 RIGHT 29.00 UP 38.00 DOWN 36.00 \n",
      "(1, 2) LEFT 37.00 RIGHT 30.00 UP 39.00 DOWN 35.00 \n",
      "(1, 3) LEFT 17.61 RIGHT 16.60 UP 40.00 DOWN 19.65 \n",
      "\n",
      "(2, 0) LEFT 35.00 RIGHT 36.00 UP 35.97 DOWN 9.97 \n",
      "(2, 1) LEFT 35.00 RIGHT 35.00 UP 37.00 DOWN 34.00 \n",
      "(2, 2) LEFT 36.00 RIGHT 34.00 UP 29.00 DOWN 34.00 \n",
      "(2, 3) LEFT 35.00 RIGHT 34.00 UP 30.00 DOWN 33.00 \n",
      "\n",
      "(3, 0) LEFT 0.00 RIGHT 0.00 UP 0.00 DOWN 0.00 \n",
      "(3, 1) LEFT 10.00 RIGHT 34.00 UP 36.00 DOWN 34.00 \n",
      "(3, 2) LEFT 34.00 RIGHT 33.00 UP 35.00 DOWN 34.00 \n",
      "(3, 3) LEFT 33.98 RIGHT 32.99 UP 34.00 DOWN 32.97 \n",
      "\n",
      "Gamma = 0.9\n",
      "(0, 0) LEFT 26.45 RIGHT 30.50 UP 26.45 DOWN 22.80 \n",
      "(0, 1) LEFT 26.45 RIGHT 35.00 UP 30.50 DOWN 26.45 \n",
      "(0, 2) LEFT 30.50 RIGHT 40.00 UP 35.00 DOWN 21.50 \n",
      "(0, 3) LEFT 0.00 RIGHT 0.00 UP 0.00 DOWN 0.00 \n",
      "\n",
      "(1, 0) LEFT 22.80 RIGHT 26.45 UP 26.45 DOWN 19.52 \n",
      "(1, 1) LEFT 22.80 RIGHT 21.50 UP 30.50 DOWN 22.80 \n",
      "(1, 2) LEFT 26.45 RIGHT 26.00 UP 35.00 DOWN 19.52 \n",
      "(1, 3) LEFT 21.50 RIGHT 26.00 UP 40.00 DOWN 22.40 \n",
      "\n",
      "(2, 0) LEFT 19.51 RIGHT 22.78 UP 22.80 DOWN 10.00 \n",
      "(2, 1) LEFT 19.52 RIGHT 19.52 UP 26.45 DOWN 18.52 \n",
      "(2, 2) LEFT 22.80 RIGHT 22.40 UP 21.50 DOWN 16.57 \n",
      "(2, 3) LEFT 19.52 RIGHT 22.40 UP 26.00 DOWN 19.16 \n",
      "\n",
      "(3, 0) LEFT 0.00 RIGHT 0.00 UP 0.00 DOWN 0.00 \n",
      "(3, 1) LEFT 10.00 RIGHT 16.57 UP 22.80 DOWN 18.52 \n",
      "(3, 2) LEFT 18.52 RIGHT 19.16 UP 19.52 DOWN 16.57 \n",
      "(3, 3) LEFT 16.57 RIGHT 19.13 UP 22.40 DOWN 19.16 \n",
      "\n"
     ]
    }
   ],
   "source": [
    "print(\"Gamma = 1\")\n",
    "Q_learning_Q_map_1 = evaluation_gamma_1.Q_learning(maze)\n",
    "print(\"Gamma = 0.9\")\n",
    "Q_learning_Q_map_0_9 = evaluation_gamma_0_9.Q_learning(maze)"
   ]
  },
  {
   "attachments": {},
   "cell_type": "markdown",
   "metadata": {},
   "source": [
    "# Visualisation"
   ]
  },
  {
   "attachments": {},
   "cell_type": "markdown",
   "metadata": {},
   "source": [
    "## Utils functions"
   ]
  },
  {
   "cell_type": "code",
   "execution_count": 8,
   "metadata": {},
   "outputs": [],
   "source": [
    "def print_sidebyside_Q_map(Q_map1,Q_map2):\n",
    "\n",
    "    for index, row in enumerate(Q_map1):\n",
    "        for index2, col in enumerate(row):\n",
    "            print(col[0][0].position, end=\" \")\n",
    "            print(\"Gamma = 1\", end=\" \")\n",
    "            for index3, action in enumerate(col):\n",
    "                print(action[1].name, end=\" \")\n",
    "                print(\"%#06.3f\" % action[2], end=\" \")\n",
    "                print(\" | \", end=\" \")\n",
    "            print(\"            Gamma = 0.9\", end=\" \")\n",
    "            print(\" | \", end=\" \")\n",
    "            for index3, action in enumerate(Q_map2[index][index2]):\n",
    "                print(action[1].name, end=\" \")\n",
    "                print(\"%#06.3f\" % action[2], end=\" \")\n",
    "                print(\" | \", end=\" \")\n",
    "            print()\n",
    "        print()\n"
   ]
  },
  {
   "cell_type": "code",
   "execution_count": 9,
   "metadata": {},
   "outputs": [],
   "source": [
    "def get_best_action_from_Q_map_state(state):\n",
    "    best_action = None\n",
    "    best_v = -100000\n",
    "    for action in state:\n",
    "        if action[2] > best_v:\n",
    "            best_v = action[2]\n",
    "            best_action = action[1]\n",
    "    return best_action"
   ]
  },
  {
   "cell_type": "code",
   "execution_count": 10,
   "metadata": {},
   "outputs": [],
   "source": [
    "def print_policy_based_of_Q_map(Q_map):\n",
    "    for index, row in enumerate(Q_map):\n",
    "        for index2, col in enumerate(row):\n",
    "            #print(col[0][0].position, end=\" \")\n",
    "            if col[0][0].terminal:\n",
    "                print(\"NONE\", end=\" \")\n",
    "            else:\n",
    "                action = get_best_action_from_Q_map_state(col)\n",
    "                print(action.name, end=\" \")\n",
    "        print()"
   ]
  },
  {
   "attachments": {},
   "cell_type": "markdown",
   "metadata": {},
   "source": [
    "## TD Learning"
   ]
  },
  {
   "cell_type": "code",
   "execution_count": 11,
   "metadata": {},
   "outputs": [
    {
     "data": {
      "text/plain": [
       "<matplotlib.image.AxesImage at 0x25c0d57d760>"
      ]
     },
     "execution_count": 11,
     "metadata": {},
     "output_type": "execute_result"
    },
    {
     "data": {
      "image/png": "[encoded data removed]",
      "text/plain": [
       "<Figure size 1000x1000 with 2 Axes>"
      ]
     },
     "metadata": {},
     "output_type": "display_data"
    }
   ],
   "source": [
    "fig, (ax1,ax2) = plt.subplots(1, 2, figsize=(10, 10))\n",
    "\n",
    "data_array_1 = []\n",
    "data_array_2 = []\n",
    "for i in range(4):\n",
    "    col1 = []\n",
    "    col2 = []\n",
    "\n",
    "    for j in range(4):\n",
    "        col1.append(round(maze_values_1[i][j].value,3))\n",
    "        col2.append(round(maze_values_2[i][j].value,3))\n",
    "        ax1.text(j, i, round(maze_values_1[i][j].value,3), ha=\"center\", va=\"center\", color=\"w\")\n",
    "        ax2.text(j, i, round(maze_values_2[i][j].value,3), ha=\"center\", va=\"center\", color=\"w\")\n",
    "\n",
    "    data_array_1.append(col1)\n",
    "    data_array_2.append(col2)\n",
    "ax1.title.set_text('Gamma = 1')\n",
    "ax2.title.set_text('Gamma = 0,5')\n",
    "ax1.imshow(data_array_1, cmap='copper', interpolation='nearest')\n",
    "ax2.imshow(data_array_2, cmap='copper', interpolation='nearest')"
   ]
  },
  {
   "attachments": {},
   "cell_type": "markdown",
   "metadata": {},
   "source": [
    "in de visualisatie is te zien dat in vergelijking met gamma = 1 dat de values van iedere state meer uniformer zijn dan de values van gamma = 0.5. Dit komt doordat de doormiddel van de gamma het algorithme minder ver de toekomst in kijkt en dus minder rekening houdt met de beloning die verder in de toekomst ligt."
   ]
  },
  {
   "attachments": {},
   "cell_type": "markdown",
   "metadata": {},
   "source": [
    "## SARSA"
   ]
  },
  {
   "cell_type": "code",
   "execution_count": 12,
   "metadata": {},
   "outputs": [
    {
     "name": "stdout",
     "output_type": "stream",
     "text": [
      "SARSA:\n",
      "(0, 0) Gamma = 1 LEFT 35.974  |  RIGHT 37.518  |  UP 36.202  |  DOWN 35.062  |              Gamma = 0.9  |  LEFT 04.411  |  RIGHT 04.970  |  UP 02.000  |  DOWN 01.344  |  \n",
      "(0, 1) Gamma = 1 LEFT 36.298  |  RIGHT 38.751  |  UP 37.199  |  DOWN 35.136  |              Gamma = 0.9  |  LEFT 04.454  |  RIGHT 05.022  |  UP 05.574  |  DOWN 10.002  |  \n",
      "(0, 2) Gamma = 1 LEFT 37.278  |  RIGHT 40.000  |  UP 38.178  |  DOWN 28.104  |              Gamma = 0.9  |  LEFT 07.569  |  RIGHT 05.800  |  UP 04.934  |  DOWN 03.860  |  \n",
      "(0, 3) Gamma = 1 LEFT 00.000  |  RIGHT 00.000  |  UP 00.000  |  DOWN 00.000  |              Gamma = 0.9  |  LEFT 00.000  |  RIGHT 00.000  |  UP 00.000  |  DOWN 00.000  |  \n",
      "\n",
      "(1, 0) Gamma = 1 LEFT 35.203  |  RIGHT 35.915  |  UP 36.398  |  DOWN 33.815  |              Gamma = 0.9  |  LEFT 05.420  |  RIGHT 09.294  |  UP 05.457  |  DOWN 05.380  |  \n",
      "(1, 1) Gamma = 1 LEFT 35.328  |  RIGHT 28.549  |  UP 37.484  |  DOWN 34.632  |              Gamma = 0.9  |  LEFT 06.385  |  RIGHT 05.914  |  UP 05.895  |  DOWN 12.983  |  \n",
      "(1, 2) Gamma = 1 LEFT 35.975  |  RIGHT 28.813  |  UP 38.936  |  DOWN 33.848  |              Gamma = 0.9  |  LEFT 10.430  |  RIGHT 25.438  |  UP 05.924  |  DOWN 16.781  |  \n",
      "(1, 3) Gamma = 1 LEFT 24.456  |  RIGHT 27.030  |  UP 40.000  |  DOWN 30.770  |              Gamma = 0.9  |  LEFT 12.266  |  RIGHT 25.994  |  UP 40.000  |  DOWN 19.509  |  \n",
      "\n",
      "(2, 0) Gamma = 1 LEFT 31.274  |  RIGHT 34.791  |  UP 35.327  |  DOWN 10.000  |              Gamma = 0.9  |  LEFT 03.134  |  RIGHT 12.763  |  UP 05.209  |  DOWN 03.000  |  \n",
      "(2, 1) Gamma = 1 LEFT 33.824  |  RIGHT 33.498  |  UP 36.216  |  DOWN 32.570  |              Gamma = 0.9  |  LEFT 08.646  |  RIGHT 16.834  |  UP 09.428  |  DOWN 10.041  |  \n",
      "(2, 2) Gamma = 1 LEFT 35.189  |  RIGHT 31.717  |  UP 28.539  |  DOWN 32.303  |              Gamma = 0.9  |  LEFT 12.382  |  RIGHT 19.131  |  UP 11.526  |  DOWN 13.069  |  \n",
      "(2, 3) Gamma = 1 LEFT 32.943  |  RIGHT 32.244  |  UP 29.325  |  DOWN 31.305  |              Gamma = 0.9  |  LEFT 16.736  |  RIGHT 20.146  |  UP 22.494  |  DOWN 16.742  |  \n",
      "\n",
      "(3, 0) Gamma = 1 LEFT 00.000  |  RIGHT 00.000  |  UP 00.000  |  DOWN 00.000  |              Gamma = 0.9  |  LEFT 00.000  |  RIGHT 00.000  |  UP 00.000  |  DOWN 00.000  |  \n",
      "(3, 1) Gamma = 1 LEFT 10.000  |  RIGHT 32.274  |  UP 34.677  |  DOWN 32.819  |              Gamma = 0.9  |  LEFT 10.000  |  RIGHT 13.463  |  UP 12.952  |  DOWN 10.671  |  \n",
      "(3, 2) Gamma = 1 LEFT 32.681  |  RIGHT 31.341  |  UP 33.804  |  DOWN 32.252  |              Gamma = 0.9  |  LEFT 10.560  |  RIGHT 15.253  |  UP 16.667  |  DOWN 14.431  |  \n",
      "(3, 3) Gamma = 1 LEFT 32.540  |  RIGHT 31.273  |  UP 31.865  |  DOWN 31.368  |              Gamma = 0.9  |  LEFT 13.110  |  RIGHT 17.280  |  UP 20.643  |  DOWN 17.412  |  \n",
      "\n"
     ]
    }
   ],
   "source": [
    "print(\"SARSA:\")\n",
    "print_sidebyside_Q_map(SARSA_Q_map_1,SARSA_Q_map_0_9)"
   ]
  },
  {
   "cell_type": "code",
   "execution_count": 13,
   "metadata": {},
   "outputs": [
    {
     "name": "stdout",
     "output_type": "stream",
     "text": [
      "Gamma = 1\n",
      "RIGHT RIGHT RIGHT NONE \n",
      "UP UP UP UP \n",
      "UP UP LEFT LEFT \n",
      "NONE UP UP LEFT \n",
      "\n",
      "Gamma = 0.9\n",
      "RIGHT DOWN LEFT NONE \n",
      "RIGHT DOWN RIGHT UP \n",
      "RIGHT RIGHT RIGHT UP \n",
      "NONE RIGHT UP UP \n"
     ]
    }
   ],
   "source": [
    "print(\"Gamma = 1\")\n",
    "print_policy_based_of_Q_map(SARSA_Q_map_1)\n",
    "print()\n",
    "print(\"Gamma = 0.9\")\n",
    "print_policy_based_of_Q_map(SARSA_Q_map_0_9)"
   ]
  },
  {
   "attachments": {},
   "cell_type": "markdown",
   "metadata": {},
   "source": [
    "Op basis van de 2 geprinte policies is te zien dat de policy van gamma 0.9 lichte verschillen in zijn gekozen optimale acties heeft tegenover een gamma van 1. ook is te zien in de Q_map dat de values van gamma = 0.9 veel lager zijn dan die van gamma = 1. Dit komt doordat de reward uit (0.3) langzamer hand minder invloed heeft op de values van de states die verder weg liggen van die reward."
   ]
  },
  {
   "attachments": {},
   "cell_type": "markdown",
   "metadata": {},
   "source": [
    "## Q Learning"
   ]
  },
  {
   "cell_type": "code",
   "execution_count": 14,
   "metadata": {},
   "outputs": [
    {
     "name": "stdout",
     "output_type": "stream",
     "text": [
      "Q-learning:\n",
      "(0, 0) Gamma = 1 LEFT 36.995  |  RIGHT 38.000  |  UP 36.984  |  DOWN 35.982  |              Gamma = 0.9  |  LEFT 26.450  |  RIGHT 30.500  |  UP 26.450  |  DOWN 22.805  |  \n",
      "(0, 1) Gamma = 1 LEFT 37.000  |  RIGHT 39.000  |  UP 38.000  |  DOWN 37.000  |              Gamma = 0.9  |  LEFT 26.450  |  RIGHT 35.000  |  UP 30.500  |  DOWN 26.450  |  \n",
      "(0, 2) Gamma = 1 LEFT 38.000  |  RIGHT 40.000  |  UP 39.000  |  DOWN 29.000  |              Gamma = 0.9  |  LEFT 30.500  |  RIGHT 40.000  |  UP 35.000  |  DOWN 21.500  |  \n",
      "(0, 3) Gamma = 1 LEFT 00.000  |  RIGHT 00.000  |  UP 00.000  |  DOWN 00.000  |              Gamma = 0.9  |  LEFT 00.000  |  RIGHT 00.000  |  UP 00.000  |  DOWN 00.000  |  \n",
      "\n",
      "(1, 0) Gamma = 1 LEFT 35.923  |  RIGHT 37.000  |  UP 36.953  |  DOWN 34.939  |              Gamma = 0.9  |  LEFT 22.805  |  RIGHT 26.450  |  UP 26.450  |  DOWN 19.524  |  \n",
      "(1, 1) Gamma = 1 LEFT 36.000  |  RIGHT 29.000  |  UP 38.000  |  DOWN 36.000  |              Gamma = 0.9  |  LEFT 22.805  |  RIGHT 21.500  |  UP 30.500  |  DOWN 22.805  |  \n",
      "(1, 2) Gamma = 1 LEFT 37.000  |  RIGHT 30.000  |  UP 39.000  |  DOWN 35.000  |              Gamma = 0.9  |  LEFT 26.450  |  RIGHT 26.000  |  UP 35.000  |  DOWN 19.524  |  \n",
      "(1, 3) Gamma = 1 LEFT 17.606  |  RIGHT 16.602  |  UP 40.000  |  DOWN 19.651  |              Gamma = 0.9  |  LEFT 21.500  |  RIGHT 26.000  |  UP 40.000  |  DOWN 22.400  |  \n",
      "\n",
      "(2, 0) Gamma = 1 LEFT 34.999  |  RIGHT 36.000  |  UP 35.967  |  DOWN 09.970  |              Gamma = 0.9  |  LEFT 19.512  |  RIGHT 22.776  |  UP 22.805  |  DOWN 09.996  |  \n",
      "(2, 1) Gamma = 1 LEFT 35.000  |  RIGHT 35.000  |  UP 37.000  |  DOWN 34.000  |              Gamma = 0.9  |  LEFT 19.524  |  RIGHT 19.524  |  UP 26.450  |  DOWN 18.524  |  \n",
      "(2, 2) Gamma = 1 LEFT 36.000  |  RIGHT 34.000  |  UP 29.000  |  DOWN 34.000  |              Gamma = 0.9  |  LEFT 22.805  |  RIGHT 22.400  |  UP 21.500  |  DOWN 16.572  |  \n",
      "(2, 3) Gamma = 1 LEFT 35.000  |  RIGHT 34.000  |  UP 30.000  |  DOWN 33.000  |              Gamma = 0.9  |  LEFT 19.524  |  RIGHT 22.400  |  UP 26.000  |  DOWN 19.160  |  \n",
      "\n",
      "(3, 0) Gamma = 1 LEFT 00.000  |  RIGHT 00.000  |  UP 00.000  |  DOWN 00.000  |              Gamma = 0.9  |  LEFT 00.000  |  RIGHT 00.000  |  UP 00.000  |  DOWN 00.000  |  \n",
      "(3, 1) Gamma = 1 LEFT 10.000  |  RIGHT 34.000  |  UP 36.000  |  DOWN 34.000  |              Gamma = 0.9  |  LEFT 10.000  |  RIGHT 16.572  |  UP 22.805  |  DOWN 18.524  |  \n",
      "(3, 2) Gamma = 1 LEFT 34.000  |  RIGHT 33.000  |  UP 35.000  |  DOWN 34.000  |              Gamma = 0.9  |  LEFT 18.524  |  RIGHT 19.160  |  UP 19.524  |  DOWN 16.572  |  \n",
      "(3, 3) Gamma = 1 LEFT 33.976  |  RIGHT 32.988  |  UP 34.000  |  DOWN 32.967  |              Gamma = 0.9  |  LEFT 16.567  |  RIGHT 19.134  |  UP 22.400  |  DOWN 19.158  |  \n",
      "\n"
     ]
    }
   ],
   "source": [
    "print(\"Q-learning:\")\n",
    "print_sidebyside_Q_map(Q_learning_Q_map_1,Q_learning_Q_map_0_9)"
   ]
  },
  {
   "cell_type": "code",
   "execution_count": 15,
   "metadata": {},
   "outputs": [
    {
     "name": "stdout",
     "output_type": "stream",
     "text": [
      "Gamma = 1\n",
      "RIGHT RIGHT RIGHT NONE \n",
      "RIGHT UP UP UP \n",
      "RIGHT UP LEFT LEFT \n",
      "NONE UP UP UP \n",
      "\n",
      "Gamma = 0.9\n",
      "RIGHT RIGHT RIGHT NONE \n",
      "UP UP UP UP \n",
      "UP UP LEFT UP \n",
      "NONE UP UP UP \n"
     ]
    }
   ],
   "source": [
    "print(\"Gamma = 1\")\n",
    "print_policy_based_of_Q_map(Q_learning_Q_map_1)\n",
    "print()\n",
    "print(\"Gamma = 0.9\")\n",
    "print_policy_based_of_Q_map(Q_learning_Q_map_0_9) "
   ]
  },
  {
   "attachments": {},
   "cell_type": "markdown",
   "metadata": {},
   "source": [
    "Q Learning in vergelijking met SARSA geeft op eerste indruk dezelfde policies uit. maar als we naar de waardes kijken vertelt dit een ander verhaal. De values van Q Learning zijn veel meer uniformer en lichtelijk hoger dan die van SARSA. dit komt doordat Q Learning niet kijkt naar de volgende actie maar naar de beste actie die mogelijk is vanuit de volgende state. Hierdoor is de kans dat de agent in een state komt waar hij een beloning krijgt groter en dus de values van de states hoger."
   ]
  },
  {
   "attachments": {},
   "cell_type": "markdown",
   "metadata": {},
   "source": []
  }
 ],
 "metadata": {
  "kernelspec": {
   "display_name": "Python 3",
   "language": "python",
   "name": "python3"
  },
  "language_info": {
   "codemirror_mode": {
    "name": "ipython",
    "version": 3
   },
   "file_extension": ".py",
   "mimetype": "text/x-python",
   "name": "python",
   "nbconvert_exporter": "python",
   "pygments_lexer": "ipython3",
   "version": "3.9.13"
  },
  "orig_nbformat": 4
 },
 "nbformat": 4,
 "nbformat_minor": 2
}
